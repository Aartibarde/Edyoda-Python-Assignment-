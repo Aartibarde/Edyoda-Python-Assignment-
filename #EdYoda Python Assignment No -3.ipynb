{
 "cells": [
  {
   "cell_type": "code",
   "execution_count": null,
   "metadata": {},
   "outputs": [],
   "source": [
    "1)Write a Python function to sum all the numbers in a list."
   ]
  },
  {
   "cell_type": "code",
   "execution_count": 20,
   "metadata": {},
   "outputs": [
    {
     "name": "stdout",
     "output_type": "stream",
     "text": [
      "20\n"
     ]
    }
   ],
   "source": [
    "x=(8,2,3,0,7)\n",
    "def sum(num):\n",
    "    total = 0\n",
    "    for x in num:\n",
    "        total += x\n",
    "    return total\n",
    "a=sum((8, 2, 3, 0, 7))\n",
    "print(a)"
   ]
  },
  {
   "cell_type": "code",
   "execution_count": null,
   "metadata": {},
   "outputs": [],
   "source": [
    "2)Write a Python program to reverse a string."
   ]
  },
  {
   "cell_type": "code",
   "execution_count": 21,
   "metadata": {},
   "outputs": [
    {
     "name": "stdout",
     "output_type": "stream",
     "text": [
      "The original string is: \"1234abcd\"\n",
      "The reverse string is: \"dcba4321 \"\n"
     ]
    }
   ],
   "source": [
    "str1=(\"1234abcd\")\n",
    "def reverse(str1):\n",
    "    string = \" \"\n",
    "    for i in str1:\n",
    "        string = i + string\n",
    "    return string\n",
    "str1 = \"1234abcd\"\n",
    "print(\"The original string is:\",'\"%s\"'% str1)\n",
    "print(\"The reverse string is:\",'\"%s\"'% reverse(str1)) "
   ]
  },
  {
   "cell_type": "code",
   "execution_count": 19,
   "metadata": {},
   "outputs": [],
   "source": [
    "3)Write a Python function that accepts a string and calculate the number of upper case letters and lower case letters."
   ]
  },
  {
   "cell_type": "code",
   "execution_count": 22,
   "metadata": {},
   "outputs": [
    {
     "name": "stdout",
     "output_type": "stream",
     "text": [
      "upper case letters: 3\n",
      "lower case letters: 12\n"
     ]
    }
   ],
   "source": [
    "string=('The quick Brow Fox')\n",
    "def up_low(string):\n",
    "    uppers = 0\n",
    "    lowers = 0\n",
    "    for char in string:\n",
    "        if char.isupper():\n",
    "            uppers+=1     \n",
    "        elif char.islower():\n",
    "            lowers+=1\n",
    "    \n",
    "    print(f'upper case letters: {uppers}')\n",
    "    print(f'lower case letters: {lowers}')\n",
    "#up_low(string)    \n",
    "\n",
    "up_low('The quick Brow Fox')        \n"
   ]
  },
  {
   "cell_type": "code",
   "execution_count": null,
   "metadata": {},
   "outputs": [],
   "source": []
  },
  {
   "cell_type": "code",
   "execution_count": null,
   "metadata": {},
   "outputs": [],
   "source": []
  }
 ],
 "metadata": {
  "kernelspec": {
   "display_name": "Python 3",
   "language": "python",
   "name": "python3"
  },
  "language_info": {
   "codemirror_mode": {
    "name": "ipython",
    "version": 3
   },
   "file_extension": ".py",
   "mimetype": "text/x-python",
   "name": "python",
   "nbconvert_exporter": "python",
   "pygments_lexer": "ipython3",
   "version": "3.8.5"
  }
 },
 "nbformat": 4,
 "nbformat_minor": 4
}
